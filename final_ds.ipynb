{
 "cells": [
  {
   "cell_type": "code",
   "execution_count": 1,
   "id": "1331b4be",
   "metadata": {},
   "outputs": [
    {
     "name": "stdout",
     "output_type": "stream",
     "text": [
      "Requirement already satisfied: sentence-transformers in ./venv/lib/python3.8/site-packages (2.1.0)\n",
      "Requirement already satisfied: rank_bm25 in ./venv/lib/python3.8/site-packages (0.2.1)\n",
      "Requirement already satisfied: torch in ./venv/lib/python3.8/site-packages (1.10.1)\n",
      "Requirement already satisfied: transformers<5.0.0,>=4.6.0 in ./venv/lib/python3.8/site-packages (from sentence-transformers) (4.14.1)\n",
      "Requirement already satisfied: tokenizers>=0.10.3 in ./venv/lib/python3.8/site-packages (from sentence-transformers) (0.10.3)\n",
      "Requirement already satisfied: tqdm in ./venv/lib/python3.8/site-packages (from sentence-transformers) (4.62.3)\n",
      "Requirement already satisfied: torchvision in ./venv/lib/python3.8/site-packages (from sentence-transformers) (0.11.2)\n",
      "Requirement already satisfied: numpy in ./venv/lib/python3.8/site-packages (from sentence-transformers) (1.21.4)\n",
      "Requirement already satisfied: scikit-learn in ./venv/lib/python3.8/site-packages (from sentence-transformers) (1.0.1)\n",
      "Requirement already satisfied: scipy in ./venv/lib/python3.8/site-packages (from sentence-transformers) (1.7.3)\n",
      "Requirement already satisfied: nltk in ./venv/lib/python3.8/site-packages (from sentence-transformers) (3.6.5)\n",
      "Requirement already satisfied: sentencepiece in ./venv/lib/python3.8/site-packages (from sentence-transformers) (0.1.96)\n",
      "Requirement already satisfied: huggingface-hub in ./venv/lib/python3.8/site-packages (from sentence-transformers) (0.2.1)\n",
      "Requirement already satisfied: typing-extensions in ./venv/lib/python3.8/site-packages (from torch) (4.0.1)\n",
      "Requirement already satisfied: regex!=2019.12.17 in ./venv/lib/python3.8/site-packages (from transformers<5.0.0,>=4.6.0->sentence-transformers) (2021.11.10)\n",
      "Requirement already satisfied: sacremoses in ./venv/lib/python3.8/site-packages (from transformers<5.0.0,>=4.6.0->sentence-transformers) (0.0.46)\n",
      "Requirement already satisfied: pyyaml>=5.1 in ./venv/lib/python3.8/site-packages (from transformers<5.0.0,>=4.6.0->sentence-transformers) (6.0)\n",
      "Requirement already satisfied: packaging>=20.0 in ./venv/lib/python3.8/site-packages (from transformers<5.0.0,>=4.6.0->sentence-transformers) (21.3)\n",
      "Requirement already satisfied: requests in ./venv/lib/python3.8/site-packages (from transformers<5.0.0,>=4.6.0->sentence-transformers) (2.26.0)\n",
      "Requirement already satisfied: filelock in ./venv/lib/python3.8/site-packages (from transformers<5.0.0,>=4.6.0->sentence-transformers) (3.4.0)\n",
      "Requirement already satisfied: joblib in ./venv/lib/python3.8/site-packages (from nltk->sentence-transformers) (1.1.0)\n",
      "Requirement already satisfied: click in ./venv/lib/python3.8/site-packages (from nltk->sentence-transformers) (8.0.3)\n",
      "Requirement already satisfied: threadpoolctl>=2.0.0 in ./venv/lib/python3.8/site-packages (from scikit-learn->sentence-transformers) (3.0.0)\n",
      "Requirement already satisfied: pillow!=8.3.0,>=5.3.0 in ./venv/lib/python3.8/site-packages (from torchvision->sentence-transformers) (8.4.0)\n",
      "Requirement already satisfied: pyparsing!=3.0.5,>=2.0.2 in ./venv/lib/python3.8/site-packages (from packaging>=20.0->transformers<5.0.0,>=4.6.0->sentence-transformers) (3.0.6)\n",
      "Requirement already satisfied: idna<4,>=2.5 in ./venv/lib/python3.8/site-packages (from requests->transformers<5.0.0,>=4.6.0->sentence-transformers) (3.3)\n",
      "Requirement already satisfied: certifi>=2017.4.17 in ./venv/lib/python3.8/site-packages (from requests->transformers<5.0.0,>=4.6.0->sentence-transformers) (2021.10.8)\n",
      "Requirement already satisfied: charset-normalizer~=2.0.0 in ./venv/lib/python3.8/site-packages (from requests->transformers<5.0.0,>=4.6.0->sentence-transformers) (2.0.9)\n",
      "Requirement already satisfied: urllib3<1.27,>=1.21.1 in ./venv/lib/python3.8/site-packages (from requests->transformers<5.0.0,>=4.6.0->sentence-transformers) (1.26.7)\n",
      "Requirement already satisfied: six in ./venv/lib/python3.8/site-packages (from sacremoses->transformers<5.0.0,>=4.6.0->sentence-transformers) (1.16.0)\n"
     ]
    }
   ],
   "source": [
    "!pip install -U sentence-transformers rank_bm25 torch"
   ]
  },
  {
   "cell_type": "code",
   "execution_count": 2,
   "id": "80dc9e5d",
   "metadata": {},
   "outputs": [],
   "source": [
    "import csv\n",
    "import json\n",
    "import os\n",
    "import string\n",
    "\n",
    "import numpy as np\n",
    "from rank_bm25 import BM25Okapi\n",
    "from sentence_transformers import SentenceTransformer, CrossEncoder, util\n",
    "from sklearn.feature_extraction import _stop_words\n",
    "import torch\n",
    "from tqdm.autonotebook import tqdm"
   ]
  },
  {
   "cell_type": "code",
   "execution_count": 3,
   "id": "4e632f76",
   "metadata": {},
   "outputs": [
    {
     "name": "stdout",
     "output_type": "stream",
     "text": [
      "OK\n"
     ]
    }
   ],
   "source": [
    "if not torch.cuda.is_available():\n",
    "    print(\"Внимание, GPU не обнаружен!\")\n",
    "else:\n",
    "    print('OK')"
   ]
  },
  {
   "cell_type": "code",
   "execution_count": 20,
   "id": "9f950a90",
   "metadata": {},
   "outputs": [],
   "source": [
    "sample_questions = [\n",
    "    'How to detect if hard disk is HDD or SSD?',\n",
    "    'Asus notebook touchpad not working on ubuntu 18.04',\n",
    "    'how to both show stdout at terminal and send to file',\n",
    "    'how to increase swap file size?',\n",
    "    'show temperatures on gnome panel',\n",
    "    'set high cpu performance mode in ubuntu',\n",
    "    'how can i install root certificate in Ubuntu?',\n",
    "    'automatically shutdown ubuntu after timeout',\n",
    "    'remove stale linux kernels',\n",
    "    'how to keep swapfile working after reboot',\n",
    "    'how to completely remove ubuntu package and install again?',\n",
    "    'how to change root password',\n",
    "    'Find list of linux users',\n",
    "    'locate binary file in system directories by file name',\n",
    "    'how to determine ssh port different from 22?',\n",
    "    'detect ubuntu version',\n",
    "    'alt+shift not working',\n",
    "    'print screen current active window',\n",
    "    'how to change audio output device in ubuntu?',\n",
    "    'install skype for linux'\n",
    "]"
   ]
  },
  {
   "cell_type": "code",
   "execution_count": 4,
   "id": "dcf05446",
   "metadata": {},
   "outputs": [
    {
     "name": "stdout",
     "output_type": "stream",
     "text": [
      "--2021-12-17 13:49:42--  https://stackexchange-api.wizzzet.ru/media/passages.csv.gz\n",
      "Resolving stackexchange-api.wizzzet.ru (stackexchange-api.wizzzet.ru)... 91.239.26.135\n",
      "Connecting to stackexchange-api.wizzzet.ru (stackexchange-api.wizzzet.ru)|91.239.26.135|:443... connected.\n",
      "HTTP request sent, awaiting response... 200 OK\n",
      "Length: 98514333 (94M) [application/octet-stream]\n",
      "Saving to: ‘import_data/passages.csv.gz’\n",
      "\n",
      "passages.csv.gz     100%[===================>]  93.95M  11.8MB/s    in 6.9s    \n",
      "\n",
      "2021-12-17 13:49:49 (13.6 MB/s) - ‘import_data/passages.csv.gz’ saved [98514333/98514333]\n",
      "\n"
     ]
    }
   ],
   "source": [
    "!mkdir -p import_data\n",
    "!wget https://stackexchange-api.wizzzet.ru/media/passages.csv.gz -P import_data/"
   ]
  },
  {
   "cell_type": "code",
   "execution_count": 6,
   "id": "a72f8065",
   "metadata": {},
   "outputs": [],
   "source": [
    "!gunzip -f import_data/passages.csv.gz"
   ]
  },
  {
   "cell_type": "code",
   "execution_count": 8,
   "id": "4b01ce01",
   "metadata": {},
   "outputs": [
    {
     "name": "stdout",
     "output_type": "stream",
     "text": [
      "100000)     1445708     1445711     3: should I worry about this \"Couldn't find valid fil\n",
      "200000)     1517936     1517944     2: I installed the System Load Indicator GNOME extens\n",
      "300000)     1193135     1193136     3: Distribute \"home\" in 2 hard disks\n",
      "400000)     1684791     1684794     2: I have phpstorm, datagrip, and pycharm installed o\n",
      "500000)     1493776     1494716     1: Well, here's my answer. Do you need your sign, LOL\n",
      "600000)     893164      1023357     1: I found some sites where they do the: sudo adduser\n",
      "700000)     1055588     1086016     1: This Cisco stuff changes your /etc/resolv.conf. \n",
      "I\n",
      "800000)     1235167     1235191     2: I am following this tutorial for writing pango app\n"
     ]
    }
   ],
   "source": [
    "passages = []\n",
    "passages_cache = []\n",
    "\n",
    "with open('import_data/passages.csv', 'r') as csvfile:\n",
    "    reader = csv.reader(csvfile, delimiter=',', quotechar='\"')\n",
    "    i = 0\n",
    "    for row in reader:\n",
    "        post_id, answer_id, sentence_type, passage = row\n",
    "\n",
    "        i += 1\n",
    "        if i % 100000 == 0:\n",
    "            print(\n",
    "                f'{(str(i) + \")\").ljust(12)}'\n",
    "                f'{str(post_id).ljust(12)}'\n",
    "                f'{str(answer_id).ljust(12)}'\n",
    "                f'{sentence_type}: '\n",
    "                f'{passage[:50]}'\n",
    "            )\n",
    "\n",
    "        passages.append(passage)\n",
    "        # для того, чтобы восстановить исходные идентификаторы и источники\n",
    "        passages_cache.append(row)"
   ]
  },
  {
   "cell_type": "code",
   "execution_count": 11,
   "id": "4250bc6b",
   "metadata": {},
   "outputs": [],
   "source": [
    "def bm25_tokenize(text):\n",
    "    tokens = filter(\n",
    "        lambda x: x and x not in _stop_words.ENGLISH_STOP_WORDS,\n",
    "        [t.strip(string.punctuation) for t in text.lower().split()]\n",
    "    )\n",
    "    return tuple(tokens)"
   ]
  },
  {
   "cell_type": "code",
   "execution_count": 12,
   "id": "424ab22a",
   "metadata": {},
   "outputs": [
    {
     "data": {
      "application/vnd.jupyter.widget-view+json": {
       "model_id": "b80d8024ba4e498eafd44ad26ab2bd6b",
       "version_major": 2,
       "version_minor": 0
      },
      "text/plain": [
       "  0%|          | 0/881330 [00:00<?, ?it/s]"
      ]
     },
     "metadata": {},
     "output_type": "display_data"
    }
   ],
   "source": [
    "bm25_tokenized_corpus = []\n",
    "for passage in tqdm(passages):\n",
    "    bm25_tokenized_corpus.append(bm25_tokenize(passage))\n",
    "\n",
    "bm25 = BM25Okapi(bm25_tokenized_corpus)"
   ]
  },
  {
   "cell_type": "code",
   "execution_count": 14,
   "id": "dc5206a9",
   "metadata": {},
   "outputs": [],
   "source": [
    "def search_bm25(query, do_print=False):\n",
    "    bm25_scores = bm25.get_scores(bm25_tokenize(query))\n",
    "    top_idx = np.argpartition(bm25_scores, -10)[-10:]\n",
    "    hits = [{'corpus_id': idx, 'score': bm25_scores[idx]} for idx in top_idx]\n",
    "    hits = sorted(hits, key=lambda x: x['score'], reverse=True)\n",
    "    if do_print:\n",
    "        for hit in hits:\n",
    "            print(str(hit['score']).ljust(16), passages[hit['corpus_id']].replace('\\n', ' '))\n",
    "    return hits"
   ]
  },
  {
   "cell_type": "code",
   "execution_count": 15,
   "id": "4fef0066",
   "metadata": {},
   "outputs": [
    {
     "name": "stdout",
     "output_type": "stream",
     "text": [
      "24.021630911737557 Problems with the command which makes you know if the hard disk is hdd or ssd\n",
      "24.021630911737557 Can't see SSD hard disk after install Ubuntu 18.04 on HDD\n",
      "23.01209692176194 My current setup is an SSD with Windows installed on it and an HDD for data. I bought a second SSD and second HDD. I want to install Ubuntu Server on the second SSD and let it use the second HDD for data. Should I format these hard drives in Windows before I install Ubuntu? Or, should I hook up the hard drives then start the computer up with the Live CD before I let Windows detect the hard drives?\n",
      "22.24694262697855 How to optimize sata hard disk - HDD (Not A SSD) in ubuntu 12.04 for better performance. Hard Disk ( HDD ): 500 GB - Not a SSD Ram: 4GB 1GB 1 GB Nvidia Graphic Card Intel Core i5 Second Generation Procesor\n",
      "22.245806778417247 Or, should I hook up the hard drives then start the computer up with  the Live CD before I let Windows detect the hard drives? Yes. And you should choose manual partitioning in the installer, and tell it to create your /home and swap partitions on the HDD, and your root/ partition on the SSD. Also, I recommend you disconnect your other HDD and SSD during the install\n",
      "21.96637361757522 I recently replaced my HDD(Ubuntu 20) with an SSD. I want to copy the data that was on the old HDD to the new SSD. I've put the old HDD in an enclosure but my pc can't even detect the old HDD. How do I get my pc to detect it and copy the data stored in it?\n",
      "21.721610598261044 I have a soution. In Hp laptops BIOS having options that prevents writing on HDD. ubuntu can not detect your HDD because BIOS prevents hides it. Go to BIOS settings choose Hard disk settings in your notebooks.  Diable Prevention of HDD. Run ubuntu setup, You will be able to detect your HDD.\n",
      "21.40716932777267 My computer contains a normal HDD hard drive and a SSD. The original HDD is Disk 0 and the new SSD is Disk 1. The windows OS is on Disk 1. Can I install Ubuntu on the HDD and Windows on the SSD? Can I get back and forth between the 2 OS? I am afraid after I install Ubuntu on the HDD the Grub menu won't come up since the 2 OS are on different hard drives. In a couple months I will not want linux anymore. Can I easily remove Linux and have my windows OS come back to normal? Thanks.\n",
      "20.629629175882293 I have a lenovo laptop(g505s), I installed an SSD and removed the CD player to install a tray with the hard disk which used to work fine. I had Windows 10 in the SSD and I used the hard disk only for data. Yesterday, I decided to install Ubuntu 14.04 in the SSD (now the SSD has both operating systems). The problem is that neither Windows 10 nor Ubuntu can boot (black screen) when I have the hard disk in the tray. Both operating systems boot normally when I remove the hdd.\n",
      "20.406934100670323 My XPS desktop has 1 TB M.2 PCle NVMe SSD + 2TB 7200RPM 3.5\" SATA HDD hard disks. The Window system pre-install on the SSD, then I installed the Ubuntu on HDD, I don't want windows anymore, so I click 'erase disk and install ubuntu'. Then I check my disk through the \"Disks\" utility, it only shows HDD, I can't find SSD hard disk. anyone could help? Many thanks! I tried sudo disk -l | grep sd, and these info showup:  Disk /dev/sda: 1.8 TiB, 2000398934016 bytes, 3907029168 sectors /dev/sda1 2048 1050623\n",
      "CPU times: user 1.35 s, sys: 3.76 ms, total: 1.35 s\n",
      "Wall time: 1.35 s\n"
     ]
    }
   ],
   "source": [
    "%%time\n",
    "bm25_hits = search_bm25(sample_questions[0], do_print=True)"
   ]
  },
  {
   "cell_type": "code",
   "execution_count": 17,
   "id": "5d2b2783",
   "metadata": {},
   "outputs": [],
   "source": [
    "ss_encoder = SentenceTransformer('multi-qa-MiniLM-L6-cos-v1')\n",
    "ss_encoder.max_seq_length = 256  # 512"
   ]
  },
  {
   "cell_type": "code",
   "execution_count": 18,
   "id": "6b405cc0",
   "metadata": {},
   "outputs": [
    {
     "data": {
      "application/vnd.jupyter.widget-view+json": {
       "model_id": "916e1810768348889fab61698c932f40",
       "version_major": 2,
       "version_minor": 0
      },
      "text/plain": [
       "Batches:   0%|          | 0/27542 [00:00<?, ?it/s]"
      ]
     },
     "metadata": {},
     "output_type": "display_data"
    },
    {
     "name": "stdout",
     "output_type": "stream",
     "text": [
      "CPU times: user 16min 42s, sys: 4min 58s, total: 21min 40s\n",
      "Wall time: 18min 33s\n"
     ]
    }
   ],
   "source": [
    "%%time\n",
    "corpus_embeddings = ss_encoder.encode(passages, convert_to_tensor=True, show_progress_bar=True)"
   ]
  },
  {
   "cell_type": "code",
   "execution_count": 19,
   "id": "03d96f34",
   "metadata": {},
   "outputs": [
    {
     "data": {
      "text/plain": [
       "torch.Size([881330, 384])"
      ]
     },
     "execution_count": 19,
     "metadata": {},
     "output_type": "execute_result"
    }
   ],
   "source": [
    "corpus_embeddings.shape"
   ]
  },
  {
   "cell_type": "code",
   "execution_count": 22,
   "id": "bb20830c",
   "metadata": {},
   "outputs": [],
   "source": [
    "TOP_RESULTS = 100"
   ]
  },
  {
   "cell_type": "code",
   "execution_count": 23,
   "id": "e3cb3a46",
   "metadata": {},
   "outputs": [],
   "source": [
    "def search_sent_transform(query, top_results=10, do_print=False):\n",
    "    # Кодируем запрос использую кодировщик SentenceTransformer\n",
    "    query_embedding = ss_encoder.encode(query, convert_to_tensor=True)\n",
    "    query_embedding = query_embedding.cuda()\n",
    "    hits = util.semantic_search(query_embedding, corpus_embeddings, top_k=top_results)\n",
    "    hits = hits[0]  # Получаем результаты по первому запросу\n",
    "    hits = sorted(hits, key=lambda x: x['score'], reverse=True)\n",
    "    if do_print:\n",
    "        for hit in hits:\n",
    "            print(str(hit['score']).ljust(16), passages[hit['corpus_id']].replace('\\n', ' '))\n",
    "    return hits"
   ]
  },
  {
   "cell_type": "code",
   "execution_count": 27,
   "id": "c3396163",
   "metadata": {},
   "outputs": [
    {
     "name": "stdout",
     "output_type": "stream",
     "text": [
      "0.8010199069976807 Problems with the command which makes you know if the hard disk is hdd or ssd\n",
      "0.7489768266677856 How to check the disk activity of my hard-drive?\n",
      "0.7453947067260742 How to tell whether my HDD is IDE or SATA\n",
      "0.7265328168869019 Check if my ssd is SATA or M2\n",
      "0.717353343963623 How to check HDD info technical?\n",
      "0.6988400816917419 I want to have a script which tells me what sort of disk I have on my laptop. I have found a command used how to know if my disk is a ssd or hdd i.e. : cat /sys/block/sda/queue/rotational unfortunately I get: cat: /sys/block/sda/queue/rotational: No such file or directory my ubuntu version is 20.10. EDIT: the command: lsblk | grep disk gives nvme0n1 259:0 0 476,9G 0 disk  Is there another command related to my issue?\n",
      "0.6916237473487854 How can I check the SMART status of a SSD or HDD on current versions of Ubuntu 14.04 through 20.04?\n",
      "0.6797694563865662 How to check my HDD's for defects\n",
      "0.6786268353462219 How to check if my Ubuntu is placed on SSD?\n",
      "0.6778377294540405 So, I'm using my brand new HARD DRIVE CADDY SATA III in CPU. When I mount the HDD/SSD physically in the mounting bracket, I can click on \"Scan for hardware changes\" in \"Device Manager\" of Windows 7 to detect HDD/SSD. Now, how can I do like it in Ubuntu 18.04? I mean how can I detect HDD/SSD without rebooting Ubuntu? I have three questions that I need to type in Ubuntu's terminal: What command can I type to detect HDD/SSD via IDE and SATA? What command can I type to remove plug-in with HDD/SSD via IDE or\n",
      " \n",
      "CPU times: user 50 ms, sys: 400 µs, total: 50.4 ms\n",
      "Wall time: 48.7 ms\n"
     ]
    }
   ],
   "source": [
    "%%time\n",
    "ss_hits = search_sent_transform(sample_questions[0], top_results=10, do_print=True)\n",
    "print(' ')"
   ]
  },
  {
   "cell_type": "code",
   "execution_count": 28,
   "id": "e9d36cce",
   "metadata": {},
   "outputs": [
    {
     "data": {
      "application/vnd.jupyter.widget-view+json": {
       "model_id": "3f5a9b6ff1eb44b5bb398c23ec46ce2e",
       "version_major": 2,
       "version_minor": 0
      },
      "text/plain": [
       "Downloading:   0%|          | 0.00/794 [00:00<?, ?B/s]"
      ]
     },
     "metadata": {},
     "output_type": "display_data"
    },
    {
     "data": {
      "application/vnd.jupyter.widget-view+json": {
       "model_id": "669668aea28740f19ec294548b9556f8",
       "version_major": 2,
       "version_minor": 0
      },
      "text/plain": [
       "Downloading:   0%|          | 0.00/86.7M [00:00<?, ?B/s]"
      ]
     },
     "metadata": {},
     "output_type": "display_data"
    },
    {
     "data": {
      "application/vnd.jupyter.widget-view+json": {
       "model_id": "794094777d81429ebb7449f7522d5229",
       "version_major": 2,
       "version_minor": 0
      },
      "text/plain": [
       "Downloading:   0%|          | 0.00/316 [00:00<?, ?B/s]"
      ]
     },
     "metadata": {},
     "output_type": "display_data"
    },
    {
     "data": {
      "application/vnd.jupyter.widget-view+json": {
       "model_id": "ea21282848ef49b9bada427a35359acd",
       "version_major": 2,
       "version_minor": 0
      },
      "text/plain": [
       "Downloading:   0%|          | 0.00/226k [00:00<?, ?B/s]"
      ]
     },
     "metadata": {},
     "output_type": "display_data"
    },
    {
     "data": {
      "application/vnd.jupyter.widget-view+json": {
       "model_id": "c8f27f09f7c14c9986f1b261f044ca2e",
       "version_major": 2,
       "version_minor": 0
      },
      "text/plain": [
       "Downloading:   0%|          | 0.00/112 [00:00<?, ?B/s]"
      ]
     },
     "metadata": {},
     "output_type": "display_data"
    }
   ],
   "source": [
    "cross_encoder = CrossEncoder('cross-encoder/ms-marco-MiniLM-L-6-v2')"
   ]
  },
  {
   "cell_type": "code",
   "execution_count": 29,
   "id": "47a19fab",
   "metadata": {},
   "outputs": [],
   "source": [
    "def search_sent_transform(query, ss_results=TOP_RESULTS, reranked_results=5, do_print=False):\n",
    "    # Кодируем запрос использую кодировщик SentenceTransformer\n",
    "    query_embedding = ss_encoder.encode(query, convert_to_tensor=True)\n",
    "    query_embedding = query_embedding.cuda()\n",
    "    hits = util.semantic_search(query_embedding, corpus_embeddings, top_k=ss_results)\n",
    "    hits = hits[0]  # Получаем результаты по первому запросу\n",
    "    hits = sorted(hits, key=lambda x: x['score'], reverse=True)\n",
    "    \n",
    "    cross_pairs = [(query, passages[hit['corpus_id']]) for hit in hits]\n",
    "    cross_scores = cross_encoder.predict(cross_pairs)\n",
    "\n",
    "    for idx in range(len(cross_scores)):\n",
    "        hits[idx]['cross-score'] = cross_scores[idx]\n",
    "\n",
    "    hits = sorted(hits, key=lambda x: x['score'], reverse=True)\n",
    "    return_hits = hits[0:reranked_results]\n",
    "\n",
    "    if do_print:\n",
    "        for hit in return_hits:\n",
    "            print(\n",
    "                str(hit['cross-score']).ljust(16),\n",
    "                str(f'(orig. {hit[\"score\"]})').ljust(22),\n",
    "                passages[hit['corpus_id']].replace('\\n', ' ')\n",
    "            )\n",
    "    return return_hits"
   ]
  },
  {
   "cell_type": "code",
   "execution_count": 30,
   "id": "1978866d",
   "metadata": {},
   "outputs": [
    {
     "name": "stdout",
     "output_type": "stream",
     "text": [
      "5.2528973        (orig. 0.8010199069976807) Problems with the command which makes you know if the hard disk is hdd or ssd\n",
      "-2.3995855       (orig. 0.7489768266677856) How to check the disk activity of my hard-drive?\n",
      "-2.4500012       (orig. 0.7453947067260742) How to tell whether my HDD is IDE or SATA\n",
      "-1.3704537       (orig. 0.7265328168869019) Check if my ssd is SATA or M2\n",
      "-2.3349571       (orig. 0.717353343963623) How to check HDD info technical?\n"
     ]
    }
   ],
   "source": [
    "ss_reranked_hits = search_sent_transform(sample_questions[0], do_print=True)"
   ]
  },
  {
   "cell_type": "code",
   "execution_count": 35,
   "id": "da8d697c",
   "metadata": {},
   "outputs": [],
   "source": [
    "ss_encoder.save('ss_encoder')"
   ]
  },
  {
   "cell_type": "code",
   "execution_count": 40,
   "id": "98fd9ce0",
   "metadata": {},
   "outputs": [],
   "source": [
    "torch.save(corpus_embeddings, 'ss_encoder/corpus_embeddings.pt')"
   ]
  },
  {
   "cell_type": "code",
   "execution_count": null,
   "id": "9b5ed1a6",
   "metadata": {},
   "outputs": [],
   "source": []
  },
  {
   "cell_type": "code",
   "execution_count": null,
   "id": "dbf55488",
   "metadata": {},
   "outputs": [],
   "source": []
  },
  {
   "cell_type": "code",
   "execution_count": null,
   "id": "4093ca5e",
   "metadata": {},
   "outputs": [],
   "source": []
  }
 ],
 "metadata": {
  "kernelspec": {
   "display_name": "Python 3 (ipykernel)",
   "language": "python",
   "name": "python3"
  },
  "language_info": {
   "codemirror_mode": {
    "name": "ipython",
    "version": 3
   },
   "file_extension": ".py",
   "mimetype": "text/x-python",
   "name": "python",
   "nbconvert_exporter": "python",
   "pygments_lexer": "ipython3",
   "version": "3.8.12"
  }
 },
 "nbformat": 4,
 "nbformat_minor": 5
}
